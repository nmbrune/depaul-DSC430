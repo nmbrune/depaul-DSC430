{
 "cells": [
  {
   "cell_type": "code",
   "execution_count": 82,
   "metadata": {},
   "outputs": [],
   "source": [
    "def txtToNameList(txtFile):\n",
    "    '''\n",
    "    takes in the text file as input\n",
    "    returns the contents of the file in the form of a list of names \n",
    "    (each name is stripped of escape characters)\n",
    "    '''\n",
    "    infile = open(txtFile)\n",
    "    rawList = infile.readlines()\n",
    "    stripList = []\n",
    "    for name in rawList:\n",
    "        stripList.append(name.strip())\n",
    "    infile.close()\n",
    "    return stripList\n"
   ]
  },
  {
   "cell_type": "code",
   "execution_count": 83,
   "metadata": {},
   "outputs": [],
   "source": [
    "def listToNameDict(nameList, letterList):\n",
    "    '''\n",
    "    takes in the nameList created by txtToNameList and a letterList as input\n",
    "    first it creates a dictionary (nameDict) with every item in the letterList as keys with a value of 0 as a default\n",
    "    then uses the nameList to populate that dictionary with values for how many names end in each letter\n",
    "    returns the nameDict\n",
    "    '''\n",
    "    nameDict = {}\n",
    "    for letter in letterList:\n",
    "        nameDict[letter] = 0\n",
    "    for name in nameList:\n",
    "        if name[-1] in nameDict:\n",
    "            nameDict[name[-1]] += 1\n",
    "    return nameDict"
   ]
  },
  {
   "cell_type": "code",
   "execution_count": 86,
   "metadata": {},
   "outputs": [],
   "source": [
    "boys = txtToNameList('namesBoys.txt')\n",
    "girls = txtToNameList('namesGirls.txt')\n",
    "\n",
    "#creating list containing the last letters for all names\n",
    "#this list will be one of the inputs for the listToNameDict function\n",
    "allNames = boys + girls\n",
    "letters = []\n",
    "for name in allNames:\n",
    "    if name[-1] not in letters:\n",
    "        letters.append(name[-1])\n",
    "letters.sort() #alphabetizing the list\n",
    "\n",
    "boyNameDict = listToNameDict(boys, letters)\n",
    "girlNameDict = listToNameDict(girls, letters)\n"
   ]
  },
  {
   "cell_type": "code",
   "execution_count": 85,
   "metadata": {},
   "outputs": [
    {
     "name": "stdout",
     "output_type": "stream",
     "text": [
      "Letter  Boys  Girls\n",
      "a          9    380\n",
      "b          4      0\n",
      "c          8      1\n",
      "d         31      3\n",
      "e        102    188\n",
      "f          2      0\n",
      "g          3      0\n",
      "h         35     64\n",
      "i         28     35\n",
      "j          1      0\n",
      "k         21      0\n",
      "l         61     28\n",
      "m         15      3\n",
      "n        340    147\n",
      "o         76      0\n",
      "p          3      0\n",
      "r         73     12\n",
      "s         68     14\n",
      "t         26      9\n",
      "u          1      0\n",
      "v          3      0\n",
      "w          4      2\n",
      "x          8      1\n",
      "y         75    112\n",
      "z          3      1\n"
     ]
    }
   ],
   "source": [
    "#printing the names in a clean format\n",
    "print(\"{:6}  {:4}  {:5}\".format(\"Letter\", \"Boys\", \"Girls\"))\n",
    "for letter in letters:\n",
    "    print(\"{:6}  {:4}  {:5}\".format(letter,boyNameDict[letter],girlNameDict[letter]))"
   ]
  },
  {
   "cell_type": "code",
   "execution_count": null,
   "metadata": {},
   "outputs": [],
   "source": []
  }
 ],
 "metadata": {
  "kernelspec": {
   "display_name": "Python 3",
   "language": "python",
   "name": "python3"
  },
  "language_info": {
   "codemirror_mode": {
    "name": "ipython",
    "version": 3
   },
   "file_extension": ".py",
   "mimetype": "text/x-python",
   "name": "python",
   "nbconvert_exporter": "python",
   "pygments_lexer": "ipython3",
   "version": "3.6.5"
  }
 },
 "nbformat": 4,
 "nbformat_minor": 2
}
