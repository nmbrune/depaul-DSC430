{
 "cells": [
  {
   "cell_type": "code",
   "execution_count": 1,
   "metadata": {},
   "outputs": [],
   "source": [
    "import random\n",
    "\n",
    "class SixSidedDie:\n",
    "    \n",
    "    def roll(self):\n",
    "        'roll the dice, return a number 1-6'\n",
    "        self.r = random.randint(1,6)\n",
    "        return self.r\n",
    "        \n",
    "    def getFaceValue(self):\n",
    "        'return face value from roll'\n",
    "        return self.r\n",
    "    \n",
    "    def __repr__(self):\n",
    "        'return formal representation'\n",
    "        #return \"{}({})\".format(_name_,self.r)\n",
    "        return \"SixSidedDie({})\".format(self.r)\n",
    "\n",
    "class TenSidedDie(SixSidedDie):\n",
    "    \n",
    "    def roll(self):\n",
    "        'roll the dice, return a number 1-10'\n",
    "        self.r = random.randint(1,10)\n",
    "        return self.r\n",
    "    def __repr__(self):\n",
    "        'return formal representation'\n",
    "        return \"TenSidedDie({})\".format(self.r)\n",
    "        \n",
    "class TwentySidedDie(SixSidedDie):\n",
    "    \n",
    "    def roll(self):\n",
    "        'roll the dice, return a number 1-20'\n",
    "        self.r = random.randint(1,20)\n",
    "        return self.r\n",
    "    def __repr__(self):\n",
    "        'return formal representation'\n",
    "        return \"TwentySidedDie({})\".format(self.r)"
   ]
  },
  {
   "cell_type": "code",
   "execution_count": 4,
   "metadata": {},
   "outputs": [],
   "source": [
    "class Cup:\n",
    "    \n",
    "    def __init__(self,six=1,ten=1,twenty=1):\n",
    "        'defines the cup'\n",
    "        self.six, self.ten, self.twenty = six, ten, twenty\n",
    "        self.cup = []\n",
    "        for i in range(0,self.six):\n",
    "            d = SixSidedDie()\n",
    "            self.cup.append(d)\n",
    "        \n",
    "        for i in range(0,self.ten):\n",
    "            d = TenSidedDie()\n",
    "            self.cup.append(d)\n",
    "        \n",
    "        for i in range(0,self.twenty):\n",
    "            d = TwentySidedDie()\n",
    "            self.cup.append(d)\n",
    "    \n",
    "    def roll(self):\n",
    "        'rolls all dice in the cup and returns the sum'\n",
    "        self.cupValues = []\n",
    "        for d in self.cup:\n",
    "            self.cupValues.append(d.roll())\n",
    "        return sum(self.cupValues)\n",
    "    \n",
    "    def getSum(self):\n",
    "        'returns the sum from the previous roll'\n",
    "        return sum(self.cupValues)\n",
    "    \n",
    "    def __repr__(self):\n",
    "        'returns contents of the cup'\n",
    "        return \"Cup{}\".format(tuple(self.cup))\n",
    "        \n"
   ]
  },
  {
   "cell_type": "code",
   "execution_count": 5,
   "metadata": {},
   "outputs": [
    {
     "name": "stdout",
     "output_type": "stream",
     "text": [
      "57\n",
      "You rolled a total value of 57\n",
      "Cup(SixSidedDie(4), SixSidedDie(4), TenSidedDie(5), TenSidedDie(8), TenSidedDie(2), TwentySidedDie(7), TwentySidedDie(3), TwentySidedDie(8), TwentySidedDie(16))\n"
     ]
    }
   ],
   "source": [
    "#example of a cup with specified values and the functionality\n",
    "cup1 = Cup(2,3,4)\n",
    "print(cup1.roll())\n",
    "print(\"You rolled a total value of \" + str(cup1.getSum()))\n",
    "print(cup1)"
   ]
  },
  {
   "cell_type": "code",
   "execution_count": 6,
   "metadata": {},
   "outputs": [
    {
     "name": "stdout",
     "output_type": "stream",
     "text": [
      "15\n",
      "You rolled a total value of 15\n",
      "Cup(SixSidedDie(4), TenSidedDie(5), TwentySidedDie(6))\n"
     ]
    }
   ],
   "source": [
    "#example of a cup without specified values and the functionality\n",
    "cup2 = Cup()\n",
    "print(cup2.roll())\n",
    "print(\"You rolled a total value of \" + str(cup2.getSum()))\n",
    "print(cup2)"
   ]
  },
  {
   "cell_type": "code",
   "execution_count": 7,
   "metadata": {},
   "outputs": [],
   "source": [
    "def askToPlay():\n",
    "    '''Asks user if they would like to play again and returns a True or False value'''\n",
    "    play = ''\n",
    "    while play != 'y':\n",
    "        play = str(input(\"Do you want to play?(y/n) \"))\n",
    "        if play == 'n':\n",
    "            print(\"Goodbye\")\n",
    "            return False\n",
    "        elif play == 'y':\n",
    "            print(\"Let's play!\")\n",
    "            return True\n",
    "        else:\n",
    "            print(\"Invalid Entry: must enter either y or n\")\n"
   ]
  },
  {
   "cell_type": "code",
   "execution_count": 8,
   "metadata": {},
   "outputs": [],
   "source": [
    "def takeBet(balance):\n",
    "    '''asks user to place bet and validates that bet is a positive integer greater than zero\n",
    "    takes user's balance as input and returns the user's bet'''\n",
    "    bet = 0\n",
    "    while bet <= 0 or bet > balance:\n",
    "        try:\n",
    "            bet = int(input(\"Enter your bet (ex. 10): \"))\n",
    "        except:\n",
    "            print(\"Invalid Entry: must enter whole number\")\n",
    "        if bet <= 0:\n",
    "            print(\"Bet must be a positive number greater than zero\")\n",
    "        elif bet > balance:\n",
    "            print(\"Bet cannot be greater than your balance of \" + str(balance))     \n",
    "    return bet\n"
   ]
  },
  {
   "cell_type": "code",
   "execution_count": 9,
   "metadata": {},
   "outputs": [],
   "source": [
    "def nDice(str):\n",
    "    '''asks user how many of the type of die (input) they would like to use\n",
    "    makes sure entry is valid and then returns the number of die'''\n",
    "    n = -1\n",
    "    while n < 0:\n",
    "        try:\n",
    "            n = int(input(\"Enter number of \" + str + \" you want to play (ex. 1): \"))\n",
    "        except:\n",
    "            print(\"Invalid Entry: must enter whole number\")\n",
    "        if n < 0:\n",
    "            print(\"Enter a positive number\")\n",
    "    return n"
   ]
  },
  {
   "cell_type": "code",
   "execution_count": 10,
   "metadata": {},
   "outputs": [],
   "source": [
    "def playGame(goal):\n",
    "    '''asks user how many of each die they would like to play\n",
    "    plays the game and returns the multiplier for the bet'''\n",
    "    \n",
    "    nSix = nDice('SixSidedDie')\n",
    "    nTen = nDice('TenSidedDie')\n",
    "    nTwenty = nDice('TwentySidedDie')\n",
    "    \n",
    "    cup = Cup(nSix,nTen,nTwenty)\n",
    "    result = cup.roll()\n",
    "    print(\"You rolled a total value of \" + str(cup.getSum()))\n",
    "    dif = goal - cup.getSum()\n",
    "    \n",
    "    if dif == 0:\n",
    "        return 10\n",
    "    elif dif <= 5:\n",
    "        return 5\n",
    "    elif dif <= 10:\n",
    "        return 2\n",
    "    else:\n",
    "        return -1\n"
   ]
  },
  {
   "cell_type": "code",
   "execution_count": 11,
   "metadata": {},
   "outputs": [
    {
     "name": "stdout",
     "output_type": "stream",
     "text": [
      "Hello, please enter your userName (if nothing is entered, default will be 'user1'): \n",
      "Welcome user1! Your starting balance is $100\n",
      "\n",
      "\n",
      "\n",
      "Here's how to play:\n",
      "\n",
      "- You will be presented with a goal\n",
      "\n",
      "- You're trying to roll a value as close to the goal as possible without going over\n",
      "\n",
      "- You will get to choose how many six, ten, and twenty sided die you want to play with\n",
      "\n",
      "\n",
      "\n",
      "\t- If hit the goal you recieve 10x your bet\n",
      "\n",
      "\t- If you're within 5 you recieve 5x your bet\n",
      "\n",
      "\t- If you're within 10 you recieve 2x your bet\n",
      "\n",
      "\t- Anything over the goal or outside of 10 from the goal and you will lose your bet\n"
     ]
    }
   ],
   "source": [
    "#kick off game by asking for user's name, default userName set to 'user1'\n",
    "userName = str(input(\"Hello, please enter your userName (if nothing is entered, default will be 'user1'): \"))\n",
    "if userName == '':\n",
    "    userName = 'user1'\n",
    "balance = 100\n",
    "#Welcome the user, present them with their balance and explain the rules\n",
    "print('''Welcome ''' + userName + '''! Your starting balance is $100\\n\n",
    "\\n\n",
    "Here's how to play:\\n\n",
    "- You will be presented with a goal\\n\n",
    "- You're trying to roll a value as close to the goal as possible without going over\\n\n",
    "- You will get to choose how many six, ten, and twenty sided die you want to play with\\n\n",
    "\\n\n",
    "\\t- If hit the goal you recieve 10x your bet\\n\n",
    "\\t- If you're within 5 you recieve 5x your bet\\n\n",
    "\\t- If you're within 10 you recieve 2x your bet\\n\n",
    "\\t- Anything over the goal or outside of 10 from the goal and you will lose your bet''')"
   ]
  },
  {
   "cell_type": "code",
   "execution_count": 13,
   "metadata": {},
   "outputs": [
    {
     "name": "stdout",
     "output_type": "stream",
     "text": [
      "Do you want to play?(y/n) y\n",
      "Let's play!\n",
      "Your goal is 22\n",
      "Enter your bet (ex. 10): 75\n",
      "Enter number of SixSidedDie you want to play (ex. 1): 3\n",
      "Enter number of TenSidedDie you want to play (ex. 1): 1\n",
      "Enter number of TwentySidedDie you want to play (ex. 1): 0\n",
      "You rolled a total value of 7\n",
      "user1 balance is now $25\n",
      "Do you want to play?(y/n) y\n",
      "Let's play!\n",
      "Your goal is 42\n",
      "Enter your bet (ex. 10): 25\n",
      "Enter number of SixSidedDie you want to play (ex. 1): 0\n",
      "Enter number of TenSidedDie you want to play (ex. 1): 3\n",
      "Enter number of TwentySidedDie you want to play (ex. 1): 0\n",
      "You rolled a total value of 15\n",
      "user1 balance is now $0\n",
      "Game Over\n"
     ]
    }
   ],
   "source": [
    "play = True\n",
    "while balance > 0 or play == True:  \n",
    "    play = askToPlay()\n",
    "    if play == False:\n",
    "        break\n",
    "    goal = random.randint(1,100)\n",
    "    print(\"Your goal is \" + str(goal))\n",
    "    bet = takeBet(balance)\n",
    "    multiplier = playGame(goal)\n",
    "    balance = balance + (bet*multiplier)\n",
    "    print(userName +\" balance is now $\" + str(balance))\n",
    "    if balance == 0:\n",
    "        print(\"Game Over\")\n",
    "        break"
   ]
  },
  {
   "cell_type": "code",
   "execution_count": null,
   "metadata": {},
   "outputs": [],
   "source": []
  }
 ],
 "metadata": {
  "kernelspec": {
   "display_name": "Python 3",
   "language": "python",
   "name": "python3"
  },
  "language_info": {
   "codemirror_mode": {
    "name": "ipython",
    "version": 3
   },
   "file_extension": ".py",
   "mimetype": "text/x-python",
   "name": "python",
   "nbconvert_exporter": "python",
   "pygments_lexer": "ipython3",
   "version": "3.6.5"
  }
 },
 "nbformat": 4,
 "nbformat_minor": 2
}
