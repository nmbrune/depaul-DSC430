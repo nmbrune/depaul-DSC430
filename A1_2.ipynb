{
 "cells": [
  {
   "cell_type": "code",
   "execution_count": 105,
   "metadata": {},
   "outputs": [],
   "source": [
    "def prime(x):\n",
    "    '''determines if an integer is prime\n",
    "    returns a value of true if the number is prime and a value of false if it is not prime\n",
    "    the function expects a positive, non-zero integer'''\n",
    "    \n",
    "    res = True #sets the result to True as a default\n",
    "    for n in range(2,(x//2 + 1)): #loops to see if x is divisible by any numbers in the range of 2 to x//2\n",
    "        if x % n == 0:\n",
    "            res = False\n",
    "            break\n",
    "    return res\n"
   ]
  },
  {
   "cell_type": "code",
   "execution_count": 51,
   "metadata": {},
   "outputs": [],
   "source": [
    "def digitSquareAndAdd(x):\n",
    "    '''squares each digit of an integer and returns the sum of those squares'''\n",
    "    res = 0\n",
    "    for n in range(0,len(str(x))):\n",
    "        res += int((str(x)[n]))**2\n",
    "    return res\n",
    "\n",
    "def happy(x):\n",
    "    '''determines if an integer is happy\n",
    "    returns True if an integer is happy and False if it is not happy\n",
    "    expects an integer as input'''\n",
    "    firstInt = x\n",
    "    attemptLst = []\n",
    "    loopAgain = True\n",
    "\n",
    "    if digitSquareAndAdd(firstInt) == 1:\n",
    "        res = True\n",
    "    else:\n",
    "        loopingInt = firstInt\n",
    "        while loopAgain == True:\n",
    "            attempt = digitSquareAndAdd(loopingInt)\n",
    "            if attempt == 1:\n",
    "                res = True\n",
    "                loopAgain = False\n",
    "            elif attempt in attemptLst:\n",
    "                res = False\n",
    "                loopAgain = False\n",
    "            else:\n",
    "                attemptLst.append(attempt)\n",
    "                loopingInt = attempt\n",
    "    return res\n"
   ]
  },
  {
   "cell_type": "code",
   "execution_count": 50,
   "metadata": {},
   "outputs": [],
   "source": [
    "def happyPrime(x):\n",
    "    '''determines if an integer is a happy prime number by calling the happy and prime functions\n",
    "    expects an integer as input'''\n",
    "    if happy(x) and prime(x) == True:\n",
    "        return True\n",
    "    else:\n",
    "        return False\n"
   ]
  },
  {
   "cell_type": "code",
   "execution_count": 107,
   "metadata": {},
   "outputs": [
    {
     "name": "stdout",
     "output_type": "stream",
     "text": [
      "2\n",
      "3\n",
      "5\n",
      "7\n",
      "11\n",
      "13\n",
      "17\n",
      "19\n",
      "23\n",
      "29\n",
      "31\n",
      "37\n",
      "41\n",
      "43\n",
      "47\n",
      "53\n",
      "59\n",
      "61\n",
      "67\n",
      "71\n"
     ]
    }
   ],
   "source": [
    "counterPrime = 0\n",
    "loopingPrime = 2\n",
    "while counter < 20:\n",
    "    if prime(loopingPrime) == True:\n",
    "        print(loopingPrime)\n",
    "        counterPrime += 1\n",
    "    loopingPrime += 1"
   ]
  },
  {
   "cell_type": "code",
   "execution_count": 109,
   "metadata": {},
   "outputs": [
    {
     "name": "stdout",
     "output_type": "stream",
     "text": [
      "7\n",
      "10\n",
      "13\n",
      "19\n",
      "23\n",
      "28\n",
      "31\n",
      "32\n",
      "44\n",
      "49\n",
      "68\n",
      "70\n",
      "79\n",
      "82\n",
      "86\n",
      "91\n",
      "94\n",
      "97\n",
      "100\n",
      "103\n"
     ]
    }
   ],
   "source": [
    "counterHappy = 0\n",
    "loopingHappy = 2\n",
    "while counterHappy < 20:\n",
    "    if happy(loopingHappy) == True:\n",
    "        print(loopingHappy)\n",
    "        counterHappy += 1\n",
    "    loopingHappy += 1"
   ]
  },
  {
   "cell_type": "code",
   "execution_count": 111,
   "metadata": {},
   "outputs": [
    {
     "name": "stdout",
     "output_type": "stream",
     "text": [
      "7\n",
      "13\n",
      "19\n",
      "23\n",
      "31\n",
      "79\n",
      "97\n",
      "103\n",
      "109\n",
      "139\n",
      "167\n",
      "193\n",
      "239\n",
      "263\n",
      "293\n",
      "313\n",
      "331\n",
      "367\n",
      "379\n",
      "383\n"
     ]
    }
   ],
   "source": [
    "counterHappyPrime = 0\n",
    "loopingHappyPrime = 2\n",
    "while counterHappyPrime < 20:\n",
    "    if happyPrime(loopingHappyPrime) == True:\n",
    "        print(loopingHappyPrime)\n",
    "        counterHappyPrime += 1\n",
    "    loopingHappyPrime += 1"
   ]
  },
  {
   "cell_type": "code",
   "execution_count": 112,
   "metadata": {},
   "outputs": [
    {
     "name": "stdout",
     "output_type": "stream",
     "text": [
      "2\n",
      "3\n",
      "4\n",
      "5\n",
      "6\n",
      "8\n",
      "9\n",
      "10\n",
      "11\n",
      "12\n",
      "14\n",
      "15\n",
      "16\n",
      "17\n",
      "18\n",
      "20\n",
      "21\n",
      "22\n",
      "24\n",
      "25\n"
     ]
    }
   ],
   "source": [
    "counterSadPrime = 0\n",
    "loopingSadPrime = 2\n",
    "while counterSadPrime < 20:\n",
    "    if happyPrime(loopingSadPrime) == False:\n",
    "        print(loopingSadPrime)\n",
    "        counterSadPrime += 1\n",
    "    loopingSadPrime += 1"
   ]
  },
  {
   "cell_type": "code",
   "execution_count": null,
   "metadata": {},
   "outputs": [],
   "source": []
  }
 ],
 "metadata": {
  "kernelspec": {
   "display_name": "Python 3",
   "language": "python",
   "name": "python3"
  },
  "language_info": {
   "codemirror_mode": {
    "name": "ipython",
    "version": 3
   },
   "file_extension": ".py",
   "mimetype": "text/x-python",
   "name": "python",
   "nbconvert_exporter": "python",
   "pygments_lexer": "ipython3",
   "version": "3.6.5"
  }
 },
 "nbformat": 4,
 "nbformat_minor": 2
}
