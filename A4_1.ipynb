{
 "cells": [
  {
   "cell_type": "code",
   "execution_count": 1,
   "metadata": {},
   "outputs": [],
   "source": [
    "import inspect\n",
    "import statistics as stats\n",
    "import math\n",
    "fileName = \"avocado.csv\""
   ]
  },
  {
   "cell_type": "code",
   "execution_count": 2,
   "metadata": {},
   "outputs": [],
   "source": [
    "def readFileToList(target):\n",
    "    '''takes in fileName and the target variable and returns a list of all values for that variable'''\n",
    "    \n",
    "    result = []\n",
    "    infile = open(fileName)\n",
    "    index = infile.readline().split(\",\").index(target)\n",
    "\n",
    "    for line in infile.readlines():\n",
    "        result.append(float(line.split(\",\")[index]))\n",
    "    infile.close()\n",
    "    \n",
    "    return result\n",
    "\n",
    "#readFileToList(\"Total Volume\")"
   ]
  },
  {
   "cell_type": "code",
   "execution_count": 3,
   "metadata": {},
   "outputs": [],
   "source": [
    "def readAndComputeMean_SM(target):\n",
    "    '''\n",
    "    call function that reads the entire file into memory and returns a list\n",
    "    use stat module (imported) to find the mean of the list\n",
    "    '''\n",
    "    valueList = readFileToList(target)\n",
    "    mean = stats.mean(valueList)\n",
    "    return mean\n",
    "\n",
    "#readAndComputeMean_SM(\"Total Volume\")"
   ]
  },
  {
   "cell_type": "code",
   "execution_count": 4,
   "metadata": {},
   "outputs": [],
   "source": [
    "def readAndComputeSD_SM(target):\n",
    "    '''\n",
    "    call function that reads the entire file into memory and returns a list\n",
    "    use stat module (imported) to find the standard deviation of the list\n",
    "    '''\n",
    "    valueList = readFileToList(target)\n",
    "    sd = stats.stdev(valueList)\n",
    "    return sd\n",
    "    \n",
    "#readAndComputeSD_SM(\"Total Volume\")"
   ]
  },
  {
   "cell_type": "code",
   "execution_count": 5,
   "metadata": {},
   "outputs": [],
   "source": [
    "def readAndComputeMedian_SM(target):\n",
    "    '''\n",
    "    call function that reads the entire file into memory and returns a list\n",
    "    use stat module (imported) to find the median of the list\n",
    "    '''\n",
    "    valueList = readFileToList(target)\n",
    "    median = stats.median(valueList)\n",
    "    return median\n",
    "    \n",
    "#readAndComputeMedian_SM(\"Total Volume\")"
   ]
  },
  {
   "cell_type": "code",
   "execution_count": 6,
   "metadata": {},
   "outputs": [
    {
     "data": {
      "text/plain": [
       "850644.0130089332"
      ]
     },
     "execution_count": 6,
     "metadata": {},
     "output_type": "execute_result"
    }
   ],
   "source": [
    "def readAndComputeMean_HG(target):\n",
    "    '''\n",
    "    call function that reads the entire file into memory and returns a list\n",
    "    use a for loop to calculate the number of values in the list and their sum\n",
    "    calculate the mean\n",
    "    '''\n",
    "    valueList = readFileToList(target)\n",
    "    counter, sumOfValues = 0 , 0\n",
    "    for i in valueList:\n",
    "        counter += 1\n",
    "        sumOfValues += i\n",
    "\n",
    "    mean = sumOfValues/counter\n",
    "    return mean\n",
    "    \n",
    "readAndComputeMean_HG(\"Total Volume\")"
   ]
  },
  {
   "cell_type": "code",
   "execution_count": 7,
   "metadata": {},
   "outputs": [
    {
     "data": {
      "text/plain": [
       "3453450.731237387"
      ]
     },
     "execution_count": 7,
     "metadata": {},
     "output_type": "execute_result"
    }
   ],
   "source": [
    "def readAndComputeSD_HG(target):\n",
    "    '''\n",
    "    call function that calculates the mean\n",
    "    call function that reads the entire file into memory and returns a list\n",
    "    use a for loop to calculate the number of values in the list and the sum of the (differences to the mean)^2\n",
    "    '''    \n",
    "    mean = readAndComputeMean_HG(target)\n",
    "    valueList = readFileToList(target)\n",
    "    counter, sumOfVariances = 0, 0\n",
    "    for i in valueList:\n",
    "        counter += 1\n",
    "        sumOfVariances += (abs(i - mean))**2\n",
    "    sd = math.sqrt(sumOfVariances/counter)\n",
    "    return sd\n",
    "\n",
    "readAndComputeSD_HG(\"Total Volume\")"
   ]
  },
  {
   "cell_type": "code",
   "execution_count": 8,
   "metadata": {},
   "outputs": [
    {
     "data": {
      "text/plain": [
       "107376.76"
      ]
     },
     "execution_count": 8,
     "metadata": {},
     "output_type": "execute_result"
    }
   ],
   "source": [
    "def readAndComputeMedian_HG(target):\n",
    "    '''\n",
    "    call function that reads the entire file into memory and returns a list\n",
    "    sort the list, find the length of the list\n",
    "    return the middle number of that list\n",
    "    '''\n",
    "    valueList = readFileToList(target)\n",
    "    valueList.sort()\n",
    "    counter = 0\n",
    "    for i in valueList:\n",
    "        counter += 1\n",
    "    index = counter//2\n",
    "    median = valueList[index]\n",
    "    return median\n",
    "    \n",
    "readAndComputeMedian_HG(\"Total Volume\")"
   ]
  },
  {
   "cell_type": "code",
   "execution_count": 9,
   "metadata": {},
   "outputs": [
    {
     "data": {
      "text/plain": [
       "850644.0130089332"
      ]
     },
     "execution_count": 9,
     "metadata": {},
     "output_type": "execute_result"
    }
   ],
   "source": [
    "def readAndComputeMean_MML(target):\n",
    "    '''\n",
    "    read the first line of the file and find the index of target variable\n",
    "    declare sum and counter variables as 0\n",
    "    for the remaining lines in the file, loop through each line and increment the counter and sum variables\n",
    "    calculate and return the mean\n",
    "    '''\n",
    "    counter, sumOfValues = 0, 0\n",
    "    infile = open(fileName)\n",
    "    index = infile.readline().split(\",\").index(target)\n",
    "    error = False\n",
    "    while error == False:\n",
    "        try: \n",
    "            sumOfValues += float(infile.readline().split(\",\")[index])\n",
    "            counter += 1\n",
    "        except IndexError:\n",
    "            infile.close()\n",
    "            error = True\n",
    "\n",
    "    mean = (sumOfValues/counter)\n",
    "    return mean\n",
    "\n",
    "readAndComputeMean_MML(\"Total Volume\")"
   ]
  },
  {
   "cell_type": "code",
   "execution_count": 10,
   "metadata": {},
   "outputs": [
    {
     "data": {
      "text/plain": [
       "3453450.731237387"
      ]
     },
     "execution_count": 10,
     "metadata": {},
     "output_type": "execute_result"
    }
   ],
   "source": [
    "def readAndComputeSD_MML(target):\n",
    "    '''\n",
    "    read the first line of the file and find the index of target variable\n",
    "    call function to compute the mean\n",
    "    for the remaining lines in the file, loop through each line and increment the counter and sum variances\n",
    "    calculate and return the mean\n",
    "    '''\n",
    "    \n",
    "    counter, sumOfVariances = 0, 0\n",
    "    infile = open(fileName)\n",
    "    index = infile.readline().split(\",\").index(target)\n",
    "    error = False\n",
    "    mean = readAndComputeMean_MML(target)\n",
    "    while error == False:\n",
    "        try: \n",
    "            variance = abs(float(infile.readline().split(\",\")[index]) - mean)\n",
    "            sumOfVariances += variance**2\n",
    "            counter += 1\n",
    "        except IndexError:\n",
    "            infile.close()\n",
    "            error = True\n",
    "\n",
    "    return math.sqrt(sumOfVariances/counter)\n",
    "\n",
    "#readAndComputeSD_MML(\"Total Volume\")"
   ]
  },
  {
   "cell_type": "code",
   "execution_count": 11,
   "metadata": {},
   "outputs": [
    {
     "data": {
      "text/plain": [
       "84.56"
      ]
     },
     "execution_count": 11,
     "metadata": {},
     "output_type": "execute_result"
    }
   ],
   "source": [
    "def minOfFile(target):\n",
    "    '''find min of values'''\n",
    "    infile = open(fileName)\n",
    "    index = infile.readline().split(\",\").index(target)\n",
    "    fmin = float(infile.readline().split(\",\")[index])\n",
    "    error = False\n",
    "    while error == False:\n",
    "        try: \n",
    "            value = float(infile.readline().split(\",\")[index])\n",
    "            if value < fmin:\n",
    "                fmin = value    \n",
    "        except IndexError:\n",
    "            infile.close()\n",
    "            error = True\n",
    "    return fmin\n",
    "#minOfFile(\"Total Volume\")"
   ]
  },
  {
   "cell_type": "code",
   "execution_count": 12,
   "metadata": {},
   "outputs": [
    {
     "data": {
      "text/plain": [
       "62505646.52"
      ]
     },
     "execution_count": 12,
     "metadata": {},
     "output_type": "execute_result"
    }
   ],
   "source": [
    "def maxOfFile(target):\n",
    "    '''find max of values'''\n",
    "    infile = open(fileName)\n",
    "    index = infile.readline().split(\",\").index(target)\n",
    "    fmax = float(infile.readline().split(\",\")[index])\n",
    "    error = False\n",
    "    while error == False:\n",
    "        try: \n",
    "            value = float(infile.readline().split(\",\")[index])\n",
    "            if value > fmax:\n",
    "                fmax = value    \n",
    "        except IndexError:\n",
    "            infile.close()\n",
    "            error = True\n",
    "    return fmax\n",
    "#maxOfFile(\"Total Volume\")"
   ]
  },
  {
   "cell_type": "code",
   "execution_count": 15,
   "metadata": {},
   "outputs": [
    {
     "data": {
      "text/plain": [
       "18249"
      ]
     },
     "execution_count": 15,
     "metadata": {},
     "output_type": "execute_result"
    }
   ],
   "source": [
    "def lenOfFile(target):\n",
    "    '''takes in the target variable and returns a list of all values for that variable'''\n",
    "    counter = 0\n",
    "    infile = open(fileName)\n",
    "    index = infile.readline().split(\",\").index(target)\n",
    "\n",
    "    while True:\n",
    "        try:\n",
    "            value = infile.readline().split(\",\")[index]\n",
    "            counter += 1\n",
    "        except IndexError:\n",
    "            infile.close()\n",
    "            break\n",
    "    return counter\n",
    "\n",
    "#lenOfFile(\"Total Volume\")"
   ]
  },
  {
   "cell_type": "code",
   "execution_count": 29,
   "metadata": {},
   "outputs": [],
   "source": [
    "def findBucket2(fmin, fmax, target):\n",
    "    '''\n",
    "    using min and max declare the buckets\n",
    "    passes through file one value at a time and adds to counter for each bucket\n",
    "    then returns the bucket with the median in it and the number of values in that bucket\n",
    "    '''\n",
    "    sLen = lenOfFile(target)\n",
    "    infile = open(fileName)\n",
    "    m = sLen//2\n",
    "    bSize = (fmax - fmin)/5 #variable for bucketsize\n",
    "    #sets variables for each bucket as a list containing the buckets lower and upper bounds\n",
    "    b1 = [fmin, fmin+bSize]\n",
    "    b2 = [b1[1], b1[1]+bSize]\n",
    "    b3 = [b2[1], b2[1]+bSize]\n",
    "    b4 = [b3[1], b3[1]+bSize] \n",
    "    b5 = [b4[1], fmax+1]\n",
    "    above, below, b1Count, b2Count, b3Count, b4Count, b5Count = 0, 0, 0, 0, 0, 0, 0 #counters for each bucket\n",
    "    index = infile.readline().split(\",\").index(target) #read header line and find index for target variable\n",
    "    for value in range(sLen):\n",
    "        i = float(infile.readline().split(\",\")[index])\n",
    "        if i < b1[0]:\n",
    "            below += 1\n",
    "        if i >= b1[0] and i < b1[1]:\n",
    "            b1Count += 1\n",
    "        if i >= b2[0] and i < b2[1]:\n",
    "            b2Count += 1\n",
    "        if i >= b3[0] and i < b3[1]:\n",
    "            b3Count += 1\n",
    "        if i >= b4[0] and i < b4[1]:\n",
    "            b4Count += 1\n",
    "        if i >= b5[0] and i < b5[1]:\n",
    "            b5Count += 1\n",
    "        if i >= b5[1]:\n",
    "            above += 1\n",
    "\n",
    "    #if statements to determine which bucket contains the median        \n",
    "    if below + b1Count > m:\n",
    "        return b1, b1Count\n",
    "    elif below + b1Count + b2Count > m:\n",
    "        return b2, b2Count\n",
    "    elif below + b1Count + b2Count + b3Count > m:\n",
    "        return b3, b3Count\n",
    "    elif below + b1Count + b2Count + b3Count + b4Count > m:\n",
    "        return b4, b4Count\n",
    "    else:\n",
    "        return b5, b5Count\n"
   ]
  },
  {
   "cell_type": "code",
   "execution_count": 28,
   "metadata": {},
   "outputs": [],
   "source": [
    "def readAndComputeMedian_MML(target):\n",
    "    '''\n",
    "    uses while loop to call findBucket2 function until the bucket contains just one value\n",
    "    then pass through the file one more time to find the value in that bucket\n",
    "    '''\n",
    "    fmin, fmax = minOfFile(target), maxOfFile(target)\n",
    "    bounds, count = findBucket2(fmin, fmax, target)\n",
    "\n",
    "    while count > 1:\n",
    "        bounds, count = findBucket2(bounds[0], bounds[1], target)\n",
    "\n",
    "    infile = open(fileName)\n",
    "    sLen = lenOfFile(target)\n",
    "    index = infile.readline().split(\",\").index(target)\n",
    "    for value in range(sLen):\n",
    "        median = float(infile.readline().split(\",\")[index])\n",
    "        if median >= bounds[0] and median < bounds[1]:\n",
    "            return median\n",
    "    infile.close()"
   ]
  },
  {
   "cell_type": "code",
   "execution_count": 30,
   "metadata": {},
   "outputs": [
    {
     "name": "stdout",
     "output_type": "stream",
     "text": [
      "850644.013008932\n",
      "3453545.3553994712\n",
      "107376.76\n",
      "850644.0130089332\n",
      "3453450.731237387\n",
      "107376.76\n",
      "850644.0130089332\n",
      "3453450.731237387\n",
      "107376.76\n"
     ]
    }
   ],
   "source": [
    "def main():\n",
    "    print(readAndComputeMean_SM(\"Total Volume\"))\n",
    "    print(readAndComputeSD_SM(\"Total Volume\"))\n",
    "    print(readAndComputeMedian_SM(\"Total Volume\"))\n",
    "    print(readAndComputeMean_HG(\"Total Volume\"))\n",
    "    print(readAndComputeSD_HG(\"Total Volume\"))\n",
    "    print(readAndComputeMedian_HG(\"Total Volume\"))\n",
    "    print(readAndComputeMean_MML(\"Total Volume\"))\n",
    "    print(readAndComputeSD_MML(\"Total Volume\"))\n",
    "    print(readAndComputeMedian_MML(\"Total Volume\"))\n",
    "main()"
   ]
  },
  {
   "cell_type": "code",
   "execution_count": null,
   "metadata": {},
   "outputs": [],
   "source": []
  }
 ],
 "metadata": {
  "kernelspec": {
   "display_name": "Python 3",
   "language": "python",
   "name": "python3"
  },
  "language_info": {
   "codemirror_mode": {
    "name": "ipython",
    "version": 3
   },
   "file_extension": ".py",
   "mimetype": "text/x-python",
   "name": "python",
   "nbconvert_exporter": "python",
   "pygments_lexer": "ipython3",
   "version": "3.6.5"
  }
 },
 "nbformat": 4,
 "nbformat_minor": 2
}
