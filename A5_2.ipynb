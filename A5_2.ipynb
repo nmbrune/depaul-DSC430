{
 "cells": [
  {
   "cell_type": "code",
   "execution_count": null,
   "metadata": {},
   "outputs": [],
   "source": [
    "#Nate Brune\n",
    "#3/16/19\n",
    "#I have not given or received any unauthorized assistance on this assignment "
   ]
  },
  {
   "cell_type": "code",
   "execution_count": null,
   "metadata": {},
   "outputs": [],
   "source": [
    "'''\n",
    "From wikipedia:\n",
    "\n",
    "The universe of the Game of Life is an infinite, two-dimensional orthogonal grid of square cells, \n",
    "each of which is in one of two possible states, alive or dead, (or populated and unpopulated, respectively). \n",
    "Every cell interacts with its eight neighbours, which are the cells that are horizontally, vertically, \n",
    "or diagonally adjacent. At each step in time, the following transitions occur:\n",
    "\n",
    "Any live cell with fewer than two live neighbours dies, as if by underpopulation.\n",
    "Any live cell with two or three live neighbours lives on to the next generation.\n",
    "Any live cell with more than three live neighbours dies, as if by overpopulation.\n",
    "Any dead cell with exactly three live neighbours becomes a live cell, as if by reproduction.\n",
    "'''"
   ]
  },
  {
   "cell_type": "code",
   "execution_count": 124,
   "metadata": {},
   "outputs": [],
   "source": [
    "import numpy as np"
   ]
  },
  {
   "cell_type": "code",
   "execution_count": 125,
   "metadata": {},
   "outputs": [],
   "source": [
    "def conway(s,p):\n",
    "    '''takes in the size and probability a square will be live and returns a starting board for the game'''\n",
    "    a = np.random.random((s,s))\n",
    "    b = a + p\n",
    "    board = b.astype(int)\n",
    "    return board"
   ]
  },
  {
   "cell_type": "code",
   "execution_count": 126,
   "metadata": {},
   "outputs": [],
   "source": [
    "def numNeighbors(board,r,c):\n",
    "    '''takes in a board, row and column and returns the number of neighbors for the value at that index of the board'''\n",
    "    size = len(board[0])\n",
    "    left, right = max(0,r-1), min(size+1,r+2)\n",
    "    upper, lower = max(0,c-1), min(size+1,c+2)\n",
    "    n = board[left:right, upper:lower]\n",
    "    if board[r,c] == 1:\n",
    "        return np.sum(n) - 1\n",
    "    else:\n",
    "        return np.sum(n)"
   ]
  },
  {
   "cell_type": "code",
   "execution_count": 127,
   "metadata": {},
   "outputs": [],
   "source": [
    "def livesOrDies(b,n):\n",
    "    '''determines whether the number space lives or dies based on the rules of Conways game'''\n",
    "    if b == 0:\n",
    "        if n == 3:\n",
    "            return 1\n",
    "        else:\n",
    "            return 0\n",
    "    else:\n",
    "        if n < 2 or n > 3:\n",
    "            return 0\n",
    "        elif n == 2 or n == 3:\n",
    "            return 1"
   ]
  },
  {
   "cell_type": "code",
   "execution_count": 137,
   "metadata": {},
   "outputs": [],
   "source": [
    "def oneRound():\n",
    "    '''\n",
    "    brings in global board as global variable and declares new board\n",
    "    loops through each value in the global board and uses it to declare the new board\n",
    "    finally sets the global board to the new board\n",
    "    '''\n",
    "    global board\n",
    "    s = len(board[0])\n",
    "    newBoard = conway(s,0)\n",
    "    size = len(board[0])\n",
    "    for r in range(size):\n",
    "        for c in range(size):\n",
    "            newBoard[r,c] = livesOrDies(board[r,c],numNeighbors(board,r,c))\n",
    "    board = newBoard"
   ]
  },
  {
   "cell_type": "code",
   "execution_count": 138,
   "metadata": {},
   "outputs": [],
   "source": [
    "def printBoard(board):\n",
    "    '''prints board in clean format'''\n",
    "    for row in board:\n",
    "        print(row)"
   ]
  },
  {
   "cell_type": "code",
   "execution_count": 140,
   "metadata": {},
   "outputs": [],
   "source": [
    "def advance(t):\n",
    "    '''advances the board by t rounds'''\n",
    "    for x in range(t):\n",
    "        oneRound()"
   ]
  },
  {
   "cell_type": "code",
   "execution_count": 148,
   "metadata": {},
   "outputs": [
    {
     "name": "stdout",
     "output_type": "stream",
     "text": [
      "[1 1 1 0 1 1 1 0 1 1]\n",
      "[1 1 1 0 1 1 1 1 1 1]\n",
      "[0 0 1 1 1 1 1 1 0 1]\n",
      "[0 1 0 1 0 0 1 1 0 1]\n",
      "[1 1 0 1 0 1 0 1 1 0]\n",
      "[0 1 1 0 1 0 1 1 0 1]\n",
      "[1 0 1 1 1 1 1 0 1 1]\n",
      "[1 0 1 0 1 0 0 1 1 1]\n",
      "[1 0 0 1 0 0 1 0 0 0]\n",
      "[0 1 1 1 0 0 0 0 1 1]\n",
      "\n",
      "[1 0 1 0 1 0 0 0 0 1]\n",
      "[1 0 0 0 0 0 0 0 0 0]\n",
      "[1 0 0 0 0 0 0 0 0 1]\n",
      "[1 1 0 0 0 0 0 0 0 1]\n",
      "[1 0 0 1 0 1 0 0 0 1]\n",
      "[0 0 0 0 0 0 0 0 0 1]\n",
      "[1 0 0 0 0 0 0 0 0 0]\n",
      "[1 0 1 0 0 0 0 0 0 1]\n",
      "[1 0 0 0 1 0 0 0 0 0]\n",
      "[0 1 1 1 0 0 0 0 0 0]\n"
     ]
    }
   ],
   "source": [
    "board = conway(10, .6)\n",
    "printBoard(board)\n",
    "\n",
    "print('') #space to separate boards\n",
    "\n",
    "advance(1)\n",
    "printBoard(board)"
   ]
  },
  {
   "cell_type": "code",
   "execution_count": null,
   "metadata": {},
   "outputs": [],
   "source": []
  }
 ],
 "metadata": {
  "kernelspec": {
   "display_name": "Python 3",
   "language": "python",
   "name": "python3"
  },
  "language_info": {
   "codemirror_mode": {
    "name": "ipython",
    "version": 3
   },
   "file_extension": ".py",
   "mimetype": "text/x-python",
   "name": "python",
   "nbconvert_exporter": "python",
   "pygments_lexer": "ipython3",
   "version": "3.6.5"
  }
 },
 "nbformat": 4,
 "nbformat_minor": 2
}
