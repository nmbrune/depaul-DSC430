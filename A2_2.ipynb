{
 "cells": [
  {
   "cell_type": "code",
   "execution_count": 2,
   "metadata": {},
   "outputs": [],
   "source": [
    "import math\n",
    "import random"
   ]
  },
  {
   "cell_type": "code",
   "execution_count": 7,
   "metadata": {},
   "outputs": [],
   "source": [
    "def inputCoord(str):\n",
    "    '''Asks for an input of coordinates, converts it to a list and returns the list'''\n",
    "    coord = input(\"Enter the position for \"+str+\" (format x y): \")\n",
    "    res = []\n",
    "    for n in coord.split():\n",
    "        res.append(int(n))\n",
    "    return res\n"
   ]
  },
  {
   "cell_type": "code",
   "execution_count": 8,
   "metadata": {},
   "outputs": [],
   "source": [
    "def boundingBox(f1, f2, axisLen):\n",
    "    '''\n",
    "    takes the two focal points and axis length of the ellipses as input\n",
    "    calculates the bounding box and returns an dictionary containing the leftBound, rightBound, lowerBound, upperBound\n",
    "    '''\n",
    "    minX, maxX = min(f1[0],f2[0]), max(f1[0],f2[0])\n",
    "    minY, maxY = min(f1[1],f2[1]), max(f1[1],f2[1])\n",
    "    leftBound, rightBound = (maxX - axisLen), (minX + axisLen)\n",
    "    lowerBound, upperBound = (maxY - axisLen), (minY +axisLen)\n",
    "    resultBox = {'leftBound': leftBound, 'rightBound': rightBound, 'lowerBound': lowerBound, 'upperBound': upperBound}\n",
    "    return resultBox\n"
   ]
  },
  {
   "cell_type": "code",
   "execution_count": 9,
   "metadata": {},
   "outputs": [],
   "source": [
    "def interceptPoint(f1, f2, randomPoint):\n",
    "    '''\n",
    "    takes in two focal points and randomly generated point as input\n",
    "    calculates the line that is perpendicular to the major azis and passes through the randomPoint\n",
    "    returns the point where the perpendicular line and the major axis meets\n",
    "    this point will be used to calculate the distance from focal points to the random point\n",
    "    '''\n",
    "    x1, y1 = f1[0], f1[1]\n",
    "    x2, y2 = f2[0], f2[1]\n",
    "    xR, yR = randomPoint[0], randomPoint[1]\n",
    "    \n",
    "    m1 = (y2-y1)/(x2-x1)\n",
    "    b1 = y1-(m1*x1)\n",
    "    m2 = -1/m1\n",
    "    b2 = yR-(m2*xR)\n",
    "    \n",
    "    resultX = (b1-b2)/(m2-m1)\n",
    "    resultY = m1+resultX + b1\n",
    "    result = [resultX, resultY]\n",
    "    return result\n"
   ]
  },
  {
   "cell_type": "code",
   "execution_count": 10,
   "metadata": {},
   "outputs": [],
   "source": [
    "def distToFocalPoint(focalPoint, interceptPoint, randomPoint):\n",
    "    '''\n",
    "    takes focalPoint, interceptPoint, and randomPoint coordinates as input\n",
    "    returns the distance from randomPoint to focalPoint\n",
    "    '''\n",
    "    xf, yf = focalPoint[0], focalPoint[1]\n",
    "    xi, yi = interceptPoint[0], interceptPoint[1]\n",
    "    xr, yr = randomPoint[0], randomPoint[1]\n",
    "    d1 = math.sqrt((xr-xi)**2 + (yr-yi)**2)\n",
    "    d2 = math.sqrt((xf-xi)**2 + (yf-yi)**2)\n",
    "    result = math.sqrt(d1**2 + d2**2) \n",
    "    return result\n"
   ]
  },
  {
   "cell_type": "code",
   "execution_count": 12,
   "metadata": {},
   "outputs": [
    {
     "name": "stdout",
     "output_type": "stream",
     "text": [
      "Enter the position for f1 (format x y): 2 4\n",
      "Enter the position for f2 (format x y): 6 8\n",
      "Enter the length of the major axis (format: 1): 11\n",
      "Enter the number of random points (format: n): 10000\n"
     ]
    }
   ],
   "source": [
    "#gather variables needed to calculate area of an ellipses through inputs\n",
    "f1 = inputCoord(\"f1\")\n",
    "f2 = inputCoord(\"f2\")\n",
    "axisLen = int(input(\"Enter the length of the major axis (format: 1): \"))\n",
    "nPoints = int(input(\"Enter the number of random points (format: n): \"))"
   ]
  },
  {
   "cell_type": "code",
   "execution_count": 17,
   "metadata": {},
   "outputs": [
    {
     "name": "stdout",
     "output_type": "stream",
     "text": [
      "70.1136\n"
     ]
    }
   ],
   "source": [
    "#calculate the bounding box\n",
    "box = boundingBox(f1,f2,axisLen)\n",
    "\n",
    "#generate a list containing random points inside the bounding box\n",
    "randomPointList = []\n",
    "for x in range(nPoints):\n",
    "    point = []\n",
    "    point.append(random.uniform(box['leftBound'],box['rightBound'] + 1))\n",
    "    point.append(random.uniform(box['lowerBound'],box['upperBound'] + 1))\n",
    "    randomPointList.append(point)\n",
    "\n",
    "#for each point in the random list use defined functions to determine if it is in the ellipses\n",
    "#if it is in the ellipses then increase the counter by 1\n",
    "inEllipse = 0\n",
    "for point in randomPointList:\n",
    "    i = interceptPoint(f1, f2, point)\n",
    "    d1 = distToFocalPoint(f1, i, point)\n",
    "    d2 = distToFocalPoint(f2, i, point)\n",
    "    if d1 + d2 < axisLen:\n",
    "        inEllipse += 1\n",
    "\n",
    "#multiply the percentage of random points in the ellipses to the area of the box to get the area of the ellipses\n",
    "boxArea = (box['rightBound'] - box['leftBound']) * (box['upperBound'] - box['lowerBound'])\n",
    "ellipseArea = (inEllipse/nPoints)*(boxArea)\n",
    "print(ellipseArea)"
   ]
  },
  {
   "cell_type": "code",
   "execution_count": null,
   "metadata": {},
   "outputs": [],
   "source": []
  }
 ],
 "metadata": {
  "kernelspec": {
   "display_name": "Python 3",
   "language": "python",
   "name": "python3"
  },
  "language_info": {
   "codemirror_mode": {
    "name": "ipython",
    "version": 3
   },
   "file_extension": ".py",
   "mimetype": "text/x-python",
   "name": "python",
   "nbconvert_exporter": "python",
   "pygments_lexer": "ipython3",
   "version": "3.6.5"
  }
 },
 "nbformat": 4,
 "nbformat_minor": 2
}
